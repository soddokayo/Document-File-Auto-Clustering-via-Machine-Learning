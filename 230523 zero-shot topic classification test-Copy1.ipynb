{
 "cells": [
  {
   "cell_type": "code",
   "execution_count": 3,
   "id": "2eb94bbb",
   "metadata": {},
   "outputs": [],
   "source": [
    "from transformers import pipeline"
   ]
  },
  {
   "cell_type": "code",
   "execution_count": 4,
   "id": "2d9f7e45",
   "metadata": {},
   "outputs": [],
   "source": [
    "classifier = pipeline('zero-shot-classification', model='facebook/bart-large-mnli')"
   ]
  },
  {
   "cell_type": "code",
   "execution_count": 5,
   "id": "41095889",
   "metadata": {},
   "outputs": [],
   "source": [
    "labels = [\"artifacts\", \"animals\", \"food\", \"birds\"]\n",
    "hypothesis_template = 'This text is about {}.'\n",
    "sequence = \"I like hot dogs\""
   ]
  },
  {
   "cell_type": "code",
   "execution_count": 6,
   "id": "ae95aba7",
   "metadata": {},
   "outputs": [
    {
     "name": "stderr",
     "output_type": "stream",
     "text": [
      "The `multi_class` argument has been deprecated and renamed to `multi_label`. `multi_class` will be removed in a future version of Transformers.\n"
     ]
    },
    {
     "name": "stdout",
     "output_type": "stream",
     "text": [
      "{'sequence': 'I like hot dogs', 'labels': ['food', 'animals', 'artifacts', 'birds'], 'scores': [0.9971157312393188, 0.004476566798985004, 0.0022816488053649664, 0.00032228213967755437]}\n"
     ]
    }
   ],
   "source": [
    "prediction = classifier(sequence, labels, hypothesis_template=hypothesis_template, multi_class=True)\n",
    "print(prediction)"
   ]
  },
  {
   "cell_type": "code",
   "execution_count": 7,
   "id": "0591c5f3",
   "metadata": {},
   "outputs": [
    {
     "name": "stdout",
     "output_type": "stream",
     "text": [
      "[25] 4 News: Sluggish movement on power grid cyber security Industry cyber security standards fail to reach some of the most vulnerable components of the power grid.\\\n",
      "[26] 2 Giddy Phelps Touches Gold for First Time Michael Phelps won the gold medal in the 400 individual medley and set a world record in a time of 4 minutes 8.26 seconds.\n",
      "[27] 2 Tougher rules won't soften Law's game FOXBOROUGH -- Looking at his ridiculously developed upper body, with huge biceps and hardly an ounce of fat, it's easy to see why Ty Law, arguably the best cornerback in football, chooses physical play over finesse. That's not to imply that he's lacking a finesse component, because he can shut down his side of the field much as Deion Sanders ...\n",
      "[28] 2 Shoppach doesn't appear ready to hit the next level With the weeks dwindling until Jason Varitek enters free agency, the Red Sox continue to carefully monitor Kelly Shoppach , their catcher of the future, in his climb toward the majors. The Sox like most of what they have seen at Triple A Pawtucket from Shoppach, though it remains highly uncertain whether he can make the adjustments at the plate ...\n",
      "[29] 2 Mighty Ortiz makes sure Sox can rest easy Just imagine what David Ortiz could do on a good night's rest. Ortiz spent the night before last with his baby boy, D'Angelo, who is barely 1 month old. He had planned on attending the Red Sox' Family Day at Fenway Park yesterday morning, but he had to sleep in. After all, Ortiz had a son at home, and he ...\n",
      "[30] 2 They've caught his eye In  quot;helping themselves, quot; Ricky Bryant, Chas Gessner, Michael Jennings, and David Patten did nothing Friday night to make Bill Belichick's decision on what to do with his receivers any easier.\n",
      "[31] 2 Indians Mount Charge The Cleveland Indians pulled within one game of the AL Central lead by beating the Minnesota Twins, 7-1, Saturday night with home runs by Travis Hafner and Victor Martinez.\n",
      "[32] 1 Sister of man who died in Vancouver police custody slams chief (Canadian Press) Canadian Press - VANCOUVER (CP) - The sister of a man who died after a violent confrontation with police has demanded the city's chief constable resign for defending the officer involved.\n",
      "[33] 1 Man Sought  #36;50M From McGreevey, Aides Say (AP) AP - The man who claims Gov. James E. McGreevey sexually harassed him was pushing for a cash settlement of up to  #36;50 million before the governor decided to announce that he was gay and had an extramarital affair, sources told The Associated Press.\n",
      "[34] 1 Explosions Echo Throughout Najaf NAJAF, Iraq - Explosions and gunfire rattled through the city of Najaf as U.S. troops in armored vehicles and tanks rolled back into the streets here Sunday, a day after the collapse of talks - and with them a temporary cease-fire - intended to end the fighting in this holy city...\n"
     ]
    }
   ],
   "source": [
    "# AG_NEWS로 테스트\n",
    "from torchtext.datasets import AG_NEWS\n",
    "\n",
    "test_iter = AG_NEWS(split='test')\n",
    "\n",
    "#def tokenize(label, line):\n",
    "#    return line.split()\n",
    "\n",
    "labels = []\n",
    "lines = []\n",
    "for label, line in test_iter:\n",
    "    labels.append(label)\n",
    "    lines.append(line)\n",
    "    \n",
    "for i in range(25, 35):\n",
    "    print(\"[\"+str(i)+\"]\", labels[i], lines[i])"
   ]
  },
  {
   "cell_type": "code",
   "execution_count": null,
   "id": "59824d78",
   "metadata": {},
   "outputs": [],
   "source": [
    "labels_agnews = [\"World\", \"Sports\", \"Business\", \"Sci/Tech\"]\n",
    "hypothesis_template = 'This text is about {}.'\n",
    "sequences = lines[25:30].copy()\n",
    "answers = labels[25:30].copy()\n",
    "\n",
    "for idx, sequence in enumerate(sequences):\n",
    "    prediction = classifier(sequence, labels, hypothesis_template=hypothesis_template, multi_label=True)\n",
    "    print(prediction, \"ans: \"+labels_agnews[answers[idx]-1])"
   ]
  },
  {
   "cell_type": "code",
   "execution_count": null,
   "id": "4b7e8e69",
   "metadata": {},
   "outputs": [],
   "source": [
    "labels_agnews = [\"World\", \"Sports\", \"Business\", \"Sci/Tech\"]\n",
    "hypothesis_template = 'This text is about {}.'\n",
    "sequences = lines[25:35].copy()\n",
    "answers = labels[25:35].copy()\n",
    "\n",
    "for idx, sequence in enumerate(sequences):\n",
    "    prediction = classifier(sequence, labels, hypothesis_template=hypothesis_template, multi_label=True)\n",
    "    print(prediction, \"ans: \"+labels_agnews[answers[idx]-1])"
   ]
  }
 ],
 "metadata": {
  "kernelspec": {
   "display_name": "Python 3 (ipykernel)",
   "language": "python",
   "name": "python3"
  },
  "language_info": {
   "codemirror_mode": {
    "name": "ipython",
    "version": 3
   },
   "file_extension": ".py",
   "mimetype": "text/x-python",
   "name": "python",
   "nbconvert_exporter": "python",
   "pygments_lexer": "ipython3",
   "version": "3.9.13"
  }
 },
 "nbformat": 4,
 "nbformat_minor": 5
}
