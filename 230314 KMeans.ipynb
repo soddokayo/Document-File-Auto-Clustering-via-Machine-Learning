{
 "cells": [
  {
   "cell_type": "markdown",
   "id": "617ba2c1",
   "metadata": {},
   "source": [
    "# Clustering text documents using k-means\n",
    "\n",
    "This is an example showing how the scikit-learn API can be used to cluster documents by topics using a **Bag of Words** approach.\n",
    "\n",
    "Two algorithms are demoed: **KMeans** and its more scalable variant, **MiniBatchKMeans**. Additionally, latent semantic analysis is used to reduce dimensionality and discover latent patterns in the data.\n",
    "\n",
    "This example uses two different text vectorizers: a **TfidfVectorizer** and a **HashingVectorizer**. See the example notebook **FeatureHasher and DictVectorizer Comparison** for more information on vectorizers and a comparison of their processing times.\n",
    "\n",
    "For document analysis via supervised learning approach, see the example script **Classification of text documents using sparse features**."
   ]
  },
  {
   "cell_type": "markdown",
   "id": "915bd74f",
   "metadata": {},
   "source": [
    "## Loading text data\n",
    "\n",
    "We load data from **The 20 newsgroups text dataset**, which comprises around 18,000 newsgroups posts on 20 topics. For illustrative purposes and to reduce the computational cost, we select a subset of 4 topics only accounting for around 3,400 documents. See the example **Classification of text documents using sparse features** to gain intuition on the overlap of such topics.\n",
    "\n",
    "Notice that, by default, the text samples contain some message metadata such as `\"headers\"`, `\"footers\"`(signatures) and `\"quotes\"` to other posts. We use the `remove` parameter from **fetch_20newsgroups** to strip those features and have a more sensible clustering problem."
   ]
  },
  {
   "cell_type": "code",
   "execution_count": 4,
   "id": "5c26df76",
   "metadata": {},
   "outputs": [
    {
     "name": "stdout",
     "output_type": "stream",
     "text": [
      "3387 documents - 4 categories\n"
     ]
    }
   ],
   "source": [
    "import numpy as np\n",
    "from sklearn.datasets import fetch_20newsgroups\n",
    "\n",
    "categories = [\n",
    "    \"alt.atheism\",\n",
    "    \"talk.religion.misc\",\n",
    "    \"comp.graphics\",\n",
    "    \"sci.space\",\n",
    "]\n",
    "\n",
    "dataset = fetch_20newsgroups(\n",
    "    remove=(\"headers\", \"footers\", \"quotes\"),\n",
    "    subset=\"all\",\n",
    "    categories=categories,\n",
    "    shuffle=True,\n",
    "    random_state=42,\n",
    ")\n",
    "\n",
    "labels = dataset.target\n",
    "unique_labels, category_sizes = np.unique(labels, return_counts=True)\n",
    "true_k = unique_labels.shape[0]\n",
    "\n",
    "print(f\"{len(dataset.data)} documents - {true_k} categories\")"
   ]
  },
  {
   "cell_type": "code",
   "execution_count": 24,
   "id": "083c05c2",
   "metadata": {},
   "outputs": [
    {
     "name": "stdout",
     "output_type": "stream",
     "text": [
      "<class 'list'> <class 'numpy.ndarray'>\n",
      "<class 'numpy.int64'> 3\n",
      "<class 'str'> \n",
      "I will clarify my earlier quote.  God's laws were originally written for \n",
      "the Israelites.  Jesus changed that fact by now making the Law applicable to\n",
      "all people, not just the Jews.  Gentiles could be part of the kingdom of\n",
      "Heaven through the saving grace of God.  I never said that the Law was made\n",
      "obsolete by Jesus.\n",
      "\n",
      "If anything, He clarified the Law such as in that quote you made.  In the\n",
      "following verses, Jesus takes several portions of the Law and expounds upon\n",
      "the Law giving clearer meanin\n"
     ]
    }
   ],
   "source": [
    "# type and content check to import external datasets next time :)\n",
    "print(type(dataset.data), type(dataset.target))\n",
    "for tar in dataset.target[1002:]:\n",
    "    print(type(tar), tar)\n",
    "    break\n",
    "for dat in dataset.data[1002:]:\n",
    "    print(type(dat), dat[:500])\n",
    "    break"
   ]
  },
  {
   "cell_type": "markdown",
   "id": "fb52a50c",
   "metadata": {},
   "source": [
    "## Quantifying the equality of clustering results\n",
    "\n",
    "In this section we define a function to score different clustering pipelines using several metrics.\n",
    "\n",
    "Clustering algorithms are fundamentally unsupervised learning methods. However, since we happen to have class labels for this specific dataset, it is possible to use evaluation metrics that leverage this \"supervised\" ground truth information to quantify the quality of the resulting clusters. Examples of such metrics are the following:\n",
    "\n",
    "- homogeneity, which quantifies how much clusters contain only members of a single class;\n",
    "- completeness, which quantifies how much members of a given class are assigned to the same clusters;\n",
    "- V-measure, the harmonic mean of completeness and homogeneity;\n",
    "- Rand-Index, which measures how frequently pairs of data points are grouped consistently according to the result of the clustering algorithm and the ground truth class assignment;\n",
    "- Adjusted Rand-Index, a chance-adjusted Rand-Index such that random cluster assignment have an ARI of 0.0 in expectation.\n",
    "\n",
    "If the ground truth labels are not known, evaluation can only be performed using the model results itself. In that case, the Silhouette Coefficient comes in handy.\n",
    "\n",
    "For more reference, see **Clustering performance evaluation**."
   ]
  },
  {
   "cell_type": "code",
   "execution_count": 31,
   "id": "05caaf9c",
   "metadata": {},
   "outputs": [],
   "source": [
    "from collections import defaultdict\n",
    "from sklearn import metrics\n",
    "from time import time\n",
    "\n",
    "evaluations = []\n",
    "evaluations_std = []\n",
    "\n",
    "def fit_and_evaluate(km, X, name=None, n_runs=5):\n",
    "    name = km.__class__.__name__ if name is None else name\n",
    "    \n",
    "    train_times = []\n",
    "    scores = defaultdict(list)\n",
    "    for seed in range(n_runs):\n",
    "        km.set_params(random_state=seed)\n",
    "        t0 = time()\n",
    "        km.fit(X)\n",
    "        train_times.append(time() - t0)\n",
    "        scores[\"Homogeneity\"].append(metrics.homogeneity_score(labels, km.labels_))\n",
    "        scores[\"Completeness\"].append(metrics.completeness_score(labels, km.labels_))\n",
    "        scores[\"V-measure\"].append(metrics.v_measure_score(labels, km.labels_))\n",
    "        scores[\"Adjusted Rand-Index\"].append(\n",
    "            metrics.adjusted_rand_score(labels, km.labels_)\n",
    "        )\n",
    "        scores[\"Silhouette Coefficient\"].append(\n",
    "            metrics.silhouette_score(X, km.labels_, sample_size=2000)\n",
    "        )\n",
    "    train_times = np.asarray(train_times)\n",
    "    \n",
    "    print(f\"clustering done in {train_times.mean():.2f} ± {train_times.std():.2f} s \")\n",
    "    evaluation = {\n",
    "        \"estimator\": name,\n",
    "        \"train_time\": train_times.mean(),\n",
    "    }\n",
    "    evaluation_std = {\n",
    "        \"estimator\": name,\n",
    "        \"train_time\": train_times.std(),\n",
    "    }\n",
    "    for score_name, score_values in scores.items():\n",
    "        mean_score, std_score = np.mean(score_values), np.std(score_values)\n",
    "        print(f\"{score_name}: {mean_score:.3f} ± {std_score:.3f}\")\n",
    "        evaluation[score_name] = mean_score\n",
    "        evaluation_std[score_name] = std_score\n",
    "    evaluations.append(evaluation)\n",
    "    evaluations_std.append(evaluation_std)\n",
    "          "
   ]
  },
  {
   "cell_type": "markdown",
   "id": "f269717e",
   "metadata": {},
   "source": [
    "## K-means Clustering on text features\n",
    "\n",
    "Two feature extraction methods are used in this example:\n",
    "\n",
    "- **TfidfVectorizer** uses an in-memory vocabulary (a Python dict) to map the most frequent words to features indices and hence compute a word occurrence frequency (sparse) matrix. The word frequencies are then reweighted using the Inverse Document Frequency (IDF) vector collected feature-wise over the corpus.\n",
    "- **HashingVectorizer** hashes word occurrences to a fixed dimensional space, possibly with collisions. The word count vectors are then normalized to each have l2-norm equal to one (projected to the euclidean unit-sphere) which seems to be important for k-means to work in high dimensional space.\n",
    "\n",
    "Furthermore it is possible to post-process those extracted features using dimensionality reduction. We will explore the impact of those choices on the clustering quality in the following."
   ]
  },
  {
   "cell_type": "markdown",
   "id": "fba3d755",
   "metadata": {},
   "source": [
    "### Feature Extraction using TfidfVectorizer\n",
    "\n",
    "We first benchmark the estimators using a dictionary vectorizer along with an IDF normalization as provided by **TfidfVectorizer**."
   ]
  },
  {
   "cell_type": "code",
   "execution_count": 25,
   "id": "ca83c6b6",
   "metadata": {},
   "outputs": [
    {
     "name": "stdout",
     "output_type": "stream",
     "text": [
      "vectorization done in 0.236 s\n",
      "n_samples: 3387, n_features: 7929\n"
     ]
    }
   ],
   "source": [
    "from sklearn.feature_extraction.text import TfidfVectorizer\n",
    "\n",
    "vectorizer = TfidfVectorizer(\n",
    "    max_df=0.5,\n",
    "    min_df=5,\n",
    "    stop_words=\"english\",\n",
    ")\n",
    "t0 = time()\n",
    "X_tfidf = vectorizer.fit_transform(dataset.data)\n",
    "\n",
    "print(f\"vectorization done in {time() - t0:.3f} s\")\n",
    "print(f\"n_samples: {X_tfidf.shape[0]}, n_features: {X_tfidf.shape[1]}\")"
   ]
  },
  {
   "cell_type": "markdown",
   "id": "db8467c3",
   "metadata": {},
   "source": [
    "After ignoring terms that appear in more than 50% of the documents (as set by `max_df=0.5`) and terms that are not present in at least 5 documents (set by `min_df=5`), the resulting number of unique terms `n_features` is around 8,000. We can additionally quantify the sparsity of the `X_tfidf` matrix as the fraction of non-zero entries devided by the total number of elements."
   ]
  },
  {
   "cell_type": "code",
   "execution_count": 26,
   "id": "87cb4432",
   "metadata": {},
   "outputs": [
    {
     "name": "stdout",
     "output_type": "stream",
     "text": [
      "0.007\n"
     ]
    }
   ],
   "source": [
    "print(f\"{X_tfidf.nnz / np.prod(X_tfidf.shape):.3f}\")"
   ]
  },
  {
   "cell_type": "markdown",
   "id": "0e040c4d",
   "metadata": {},
   "source": [
    "We find that around 0.7% of the entries of the `X_tfidf` matrix are non-zero."
   ]
  },
  {
   "cell_type": "markdown",
   "id": "654dcc19",
   "metadata": {},
   "source": [
    "### Clustering sparse data with k-means\n",
    "\n",
    "As both **KMeans** and **MiniBatchKMeans** optimize a non-convex objective function, their clustering is not guaranteed to be optimal for a given random init. Even further, on sparse high-dimensional data such as text vectorized using the Bag of Words approach, k-means can initialize centroids on extremely isolated data points. Those data points can stay their own centroids all along.\n",
    "\n",
    "The following code illustrates how the previous phenomenon can sometimes lead to highly imbalanced clusters, depending on the random initialization:"
   ]
  },
  {
   "cell_type": "code",
   "execution_count": 27,
   "id": "f86ddf70",
   "metadata": {},
   "outputs": [
    {
     "name": "stdout",
     "output_type": "stream",
     "text": [
      "Number of elements asigned to each cluster: [   1    1 3384    1]\n",
      "Number of elements asigned to each cluster: [1597  732  233  825]\n",
      "Number of elements asigned to each cluster: [2004  446  646  291]\n",
      "Number of elements asigned to each cluster: [1695  649  446  597]\n",
      "Number of elements asigned to each cluster: [ 254 2117  459  557]\n",
      "\n",
      "True number of documents in each category according to the class labels: [799 973 987 628]\n"
     ]
    }
   ],
   "source": [
    "from sklearn.cluster import KMeans\n",
    "\n",
    "for seed in range(5):\n",
    "    kmeans = KMeans(\n",
    "        n_clusters=true_k,\n",
    "        max_iter=100,\n",
    "        n_init=1,\n",
    "        random_state=seed,\n",
    "    ).fit(X_tfidf)\n",
    "    cluster_ids, cluster_sizes = np.unique(kmeans.labels_, return_counts=True)\n",
    "    print(f\"Number of elements asigned to each cluster: {cluster_sizes}\")\n",
    "print()\n",
    "print(\n",
    "    \"True number of documents in each category according to the class labels: \"\n",
    "    f\"{category_sizes}\"\n",
    ")"
   ]
  },
  {
   "cell_type": "markdown",
   "id": "1db47965",
   "metadata": {},
   "source": [
    "To avoid this problem, one possibility is to increase the number of runs with independent random initiations `n_init`. In such case the clustering with the best inertia(관성) (objective function of k-means) is chosen."
   ]
  },
  {
   "cell_type": "code",
   "execution_count": 32,
   "id": "e6e8effb",
   "metadata": {},
   "outputs": [
    {
     "name": "stdout",
     "output_type": "stream",
     "text": [
      "clustering done in 0.35 ± 0.14 s \n",
      "Homogeneity: 0.336 ± 0.026\n",
      "Completeness: 0.400 ± 0.008\n",
      "V-measure: 0.365 ± 0.014\n",
      "Adjusted Rand-Index: 0.202 ± 0.012\n",
      "Silhouette Coefficient: 0.008 ± 0.001\n"
     ]
    }
   ],
   "source": [
    "kmeans = KMeans(\n",
    "    n_clusters=true_k,\n",
    "    max_iter=100,\n",
    "    n_init=5,\n",
    ")\n",
    "\n",
    "fit_and_evaluate(kmeans, X_tfidf, name=\"KMeans\\non tf-idf vectors\")"
   ]
  },
  {
   "cell_type": "markdown",
   "id": "c4eb0104",
   "metadata": {},
   "source": [
    "All those clustering evaluation metrics have a maximum value of 1.0 (for a perfect clustering result). Higher values are better. Values of the Adjusted Rand-Index close to 0.0 correspond to a random labeling. Notice from the scores above that the cluster assignment is indeed well above chance level, but the overall quality can certainly improve.\n",
    "\n",
    "Keep in mind that the class labels may not reflect accurately the document topics and therefore metrics that use labels are not necessarily the best to evaluate the quality of our clustering pipeline."
   ]
  },
  {
   "cell_type": "markdown",
   "id": "744c2a50",
   "metadata": {},
   "source": [
    "### Performing dimensionality reduction using LSA\n",
    "\n",
    "A `n_init=1` can still be used as long as the dimension of the vectorized space is reduced(차원 축소->SVD등 활용) first to make k-means more stable. For such purpose we use **TruncatedSVD**, which works on term count/tf-idf matrices. Since SVD results are not normalized, we redo the normalization to improve the **KMeans** result. Using SVD to reduce the dimensionality of TF-IDF document vector is often known as **latent semantic analysis** (LSA, 잠재 의미 분석) in the information retrieval and text mining literature."
   ]
  },
  {
   "cell_type": "code",
   "execution_count": 33,
   "id": "3b975ca9",
   "metadata": {},
   "outputs": [
    {
     "name": "stdout",
     "output_type": "stream",
     "text": [
      "LSA done in 0.273 s\n",
      "Explained variance of the SVD step: 18.4%\n"
     ]
    }
   ],
   "source": [
    "from sklearn.decomposition import TruncatedSVD\n",
    "from sklearn.pipeline import make_pipeline\n",
    "from sklearn.preprocessing import Normalizer\n",
    "\n",
    "lsa = make_pipeline(TruncatedSVD(n_components=100), Normalizer(copy=False))\n",
    "t0 = time()\n",
    "X_lsa = lsa.fit_transform(X_tfidf)\n",
    "explained_variance = lsa[0].explained_variance_ratio_.sum()\n",
    "\n",
    "print(f\"LSA done in {time() - t0:.3f} s\")\n",
    "print(f\"Explained variance of the SVD step: {explained_variance * 100:.1f}%\")\n"
   ]
  },
  {
   "cell_type": "markdown",
   "id": "64ff1b3c",
   "metadata": {},
   "source": [
    "Using a single initialization means the processing time will be reduced for both **KMeans** and **MiniBatchKMeans**."
   ]
  },
  {
   "cell_type": "code",
   "execution_count": 34,
   "id": "f7861066",
   "metadata": {},
   "outputs": [
    {
     "name": "stdout",
     "output_type": "stream",
     "text": [
      "clustering done in 0.16 ± 0.13 s \n",
      "Homogeneity: 0.405 ± 0.001\n",
      "Completeness: 0.430 ± 0.013\n",
      "V-measure: 0.417 ± 0.006\n",
      "Adjusted Rand-Index: 0.309 ± 0.011\n",
      "Silhouette Coefficient: 0.030 ± 0.001\n"
     ]
    }
   ],
   "source": [
    "kmeans = KMeans(\n",
    "    n_clusters=true_k,\n",
    "    max_iter=100,\n",
    "    n_init=1,\n",
    ")\n",
    "\n",
    "fit_and_evaluate(kmeans, X_lsa, name=\"KMeans\\nwith LSA on tf-idf vectors\")"
   ]
  },
  {
   "cell_type": "markdown",
   "id": "bb4a44a5",
   "metadata": {},
   "source": [
    "We can observe that clustering on the LSA representation of the document is significantly faster (both because of `n_init=1` and because the dimensionality of the LSA feature space is much smaller). Furthermore, all the clustering evaluation metrics have improved. We repeat the experiment with **MiniBatchKMeans**."
   ]
  },
  {
   "cell_type": "code",
   "execution_count": 35,
   "id": "990d1625",
   "metadata": {},
   "outputs": [
    {
     "name": "stdout",
     "output_type": "stream",
     "text": [
      "clustering done in 0.31 ± 0.10 s \n",
      "Homogeneity: 0.392 ± 0.026\n",
      "Completeness: 0.415 ± 0.041\n",
      "V-measure: 0.403 ± 0.032\n",
      "Adjusted Rand-Index: 0.330 ± 0.016\n",
      "Silhouette Coefficient: 0.030 ± 0.003\n"
     ]
    }
   ],
   "source": [
    "from sklearn.cluster import MiniBatchKMeans\n",
    "\n",
    "minibatch_kmeans = MiniBatchKMeans(\n",
    "    n_clusters=true_k,\n",
    "    n_init=1,\n",
    "    init_size=1000,\n",
    "    batch_size=1000,\n",
    ")\n",
    "\n",
    "fit_and_evaluate(\n",
    "    minibatch_kmeans,\n",
    "    X_lsa,\n",
    "    name=\"MiniBatchKMeans\\nwith LSA on tf-idf vectors\",\n",
    ")"
   ]
  },
  {
   "cell_type": "markdown",
   "id": "a98fb8d6",
   "metadata": {},
   "source": [
    "### Top terms per cluster\n",
    "\n",
    "Since **TfidfVectorizer** can be inverted we can identify the cluster centers, which provide an intuition of the most influential words **for each cluster**. See the example script **Classification of text documents using sparse features** for a comparison with the most predictive words **for each target class**."
   ]
  },
  {
   "cell_type": "code",
   "execution_count": 36,
   "id": "caad018e",
   "metadata": {},
   "outputs": [
    {
     "name": "stdout",
     "output_type": "stream",
     "text": [
      "Cluster 0: graphics thanks image file files know program looking help format \n",
      "Cluster 1: god people jesus bible believe don christian think say religion \n",
      "Cluster 2: space launch orbit shuttle nasa earth moon like mission just \n",
      "Cluster 3: just don think like know time say ve did good \n"
     ]
    }
   ],
   "source": [
    "original_space_centroids = lsa[0].inverse_transform(kmeans.cluster_centers_)\n",
    "order_centroids = original_space_centroids.argsort()[:, ::-1]\n",
    "terms = vectorizer.get_feature_names_out()\n",
    "\n",
    "for i in range(true_k):\n",
    "    print(f\"Cluster {i}: \", end=\"\")\n",
    "    for ind in order_centroids[i, :10]:\n",
    "        print(f\"{terms[ind]} \", end=\"\")\n",
    "    print()"
   ]
  },
  {
   "cell_type": "markdown",
   "id": "2a7373d9",
   "metadata": {},
   "source": [
    "### HashingVectorizer\n",
    "\n",
    "An alternative vectorization can be done using a **HashingVectorizer** instance, which does not provide IDF weighting as this is a stateless model (the fit method des nothing). When IDF weighting is needed it can be added by pipelining the **HashingVectorizer** output to a **TfidfTransformer** instance. In this case we also add LSA to the pipeline to reduce the dimension and sparcity of the hashed vector space."
   ]
  },
  {
   "cell_type": "code",
   "execution_count": 38,
   "id": "263a1a49",
   "metadata": {},
   "outputs": [
    {
     "name": "stdout",
     "output_type": "stream",
     "text": [
      "vectorization done in 1.340 s\n"
     ]
    }
   ],
   "source": [
    "from sklearn.feature_extraction.text import HashingVectorizer\n",
    "from sklearn.feature_extraction.text import TfidfTransformer\n",
    "\n",
    "lsa_vectorizer = make_pipeline(\n",
    "    HashingVectorizer(stop_words=\"english\", n_features=50_000),\n",
    "    TfidfTransformer(),\n",
    "    TruncatedSVD(n_components=100, random_state=0),\n",
    "    Normalizer(copy=False),\n",
    ")\n",
    "\n",
    "t0 = time()\n",
    "X_hashed_lsa = lsa_vectorizer.fit_transform(dataset.data)\n",
    "print(f\"vectorization done in {time() - t0:.3f} s\")"
   ]
  },
  {
   "cell_type": "markdown",
   "id": "02092f63",
   "metadata": {},
   "source": [
    "One can observe that the LSA step takes a relatively long time to fit, especially with hashed vectors. The reason is that a hashed space is typically large (set to `n_features=50_000` in this example).\n",
    "One can try lowering the number of features at the expense of having a larger fraction of features with hash collisions as shown in the example notebook **FeatureHasher and DictVectorizer Comparison**.\n",
    "\n",
    "We now fit and evaluate the `kmeans` and `minibatch_kmeans` instances on this hashed-lsa-reduced data:"
   ]
  },
  {
   "cell_type": "code",
   "execution_count": 39,
   "id": "6dd87840",
   "metadata": {},
   "outputs": [
    {
     "name": "stdout",
     "output_type": "stream",
     "text": [
      "clustering done in 0.19 ± 0.11 s \n",
      "Homogeneity: 0.390 ± 0.013\n",
      "Completeness: 0.439 ± 0.016\n",
      "V-measure: 0.413 ± 0.014\n",
      "Adjusted Rand-Index: 0.328 ± 0.013\n",
      "Silhouette Coefficient: 0.029 ± 0.001\n"
     ]
    }
   ],
   "source": [
    "fit_and_evaluate(kmeans, X_hashed_lsa, name=\"KMeans\\nwith LSA on hashed vectors\")"
   ]
  },
  {
   "cell_type": "code",
   "execution_count": 40,
   "id": "b18dbb43",
   "metadata": {},
   "outputs": [
    {
     "name": "stdout",
     "output_type": "stream",
     "text": [
      "clustering done in 0.21 ± 0.07 s \n",
      "Homogeneity: 0.339 ± 0.051\n",
      "Completeness: 0.347 ± 0.049\n",
      "V-measure: 0.343 ± 0.050\n",
      "Adjusted Rand-Index: 0.301 ± 0.074\n",
      "Silhouette Coefficient: 0.026 ± 0.003\n"
     ]
    }
   ],
   "source": [
    "fit_and_evaluate(\n",
    "    minibatch_kmeans,\n",
    "    X_hashed_lsa,\n",
    "    name=\"MiniBatchKMeans\\n with LSA on hashed vectors\",\n",
    ")"
   ]
  },
  {
   "cell_type": "markdown",
   "id": "ba797208",
   "metadata": {},
   "source": [
    "Both methods lead to good results that are similar to running the same models on the traditional LSA vectors (with hashing)."
   ]
  },
  {
   "cell_type": "markdown",
   "id": "7113c7b5",
   "metadata": {},
   "source": [
    "## Clustering evaluation summary"
   ]
  },
  {
   "cell_type": "code",
   "execution_count": 44,
   "id": "527ac738",
   "metadata": {},
   "outputs": [
    {
     "data": {
      "image/png": "[encoded data removed]",
      "text/plain": [
       "<Figure size 1600x600 with 2 Axes>"
      ]
     },
     "metadata": {},
     "output_type": "display_data"
    }
   ],
   "source": [
    "import pandas as pd\n",
    "import matplotlib.pyplot as plt\n",
    "\n",
    "fig, (ax0, ax1) = plt.subplots(ncols=2, figsize=(16, 6), sharey=True)\n",
    "\n",
    "df = pd.DataFrame(evaluations[::-1]).set_index(\"estimator\")\n",
    "df_std = pd.DataFrame(evaluations_std[::-1]).set_index(\"estimator\")\n",
    "\n",
    "df.drop(\n",
    "    [\"train_time\"],\n",
    "    axis=\"columns\",\n",
    ").plot.barh(ax=ax0, xerr=df_std)\n",
    "ax0.set_xlabel(\"Clustering scores\")\n",
    "ax0.set_ylabel(\"\")\n",
    "\n",
    "df[\"train_time\"].plot.barh(ax=ax1, xerr=df_std[\"train_time\"])\n",
    "ax1.set_xlabel(\"Clustering time (s)\")\n",
    "plt.tight_layout()"
   ]
  },
  {
   "cell_type": "markdown",
   "id": "b7273234",
   "metadata": {},
   "source": [
    "**KMeans** and **MiniBatchKMeans** suffer from the phenomenon called the **Curse of Dimensionality** for high dimensional datasets such as text data. That is the reason why the overall scores improve when using LSA. Using LSA reduced data also improves the stability and requires lower clustering time, though keep in mind that the LSA step itself takes a long time, especially with hashed vectors.\n",
    "\n",
    "The Silhouette Coefficient is defined between 0 and 1. In all cases we obtain values close to 0 (even if they improve a bit after using LSA) because its definition requires measuring distances, in contrast with other evaluation metrics such as the V-measure and the Adjusted Rand Index which are only based on cluster assignments rather than distances. Notice that strictly speaking, one should not compare the Silhouette Coefficient between spaces of different dimension, due to the different notions of distance they imply.\n",
    "\n",
    "The homogeneity, completeness and hence v-measure metrics do not yield a baseline with regards to random labeling: this means that depending on the number of samples, clusters and ground truth classes, a completely random labeling will not always yield the same values. In particular random labeling won't yield zero scores, especially when the number of clusters is large. This problem can safely be ignored when the number of samples is more than a thousand and the number of clusters is less than 10, which is the case of the present example. For smaller sample sizes or larger number of clusters it is safer to use an adjusted index such as the Adjusted Rand Index (ARI). See the example **Adjustment for chance in clustering performance evaluation** for a demo on the effect of random labeling.\n",
    "\n",
    "The size of the error bars show that **MiniBatchKMeans** is less stable than **KMeans** for this relatively small dataset. It is more interesting to use when the number of samples is much bigger, but it can come at the expense of a small degradation in clustering quality compared to the traditional k-means algorithm."
   ]
  },
  {
   "cell_type": "markdown",
   "id": "4d9ac359",
   "metadata": {},
   "source": [
    "---"
   ]
  },
  {
   "cell_type": "markdown",
   "id": "0de3c7c9",
   "metadata": {},
   "source": [
    "### 참고"
   ]
  },
  {
   "cell_type": "code",
   "execution_count": 2,
   "id": "1d65af51",
   "metadata": {},
   "outputs": [],
   "source": [
    "from sklearn.cluster import KMeans\n",
    "from sklearn.feature_extraction.text import TfidfVectorizer"
   ]
  },
  {
   "cell_type": "markdown",
   "id": "a76fb4ac",
   "metadata": {},
   "source": [
    "우리가 참고한 BERT Clustering 저널에서는 ACC, NMI, ARI 지표만 이용하지만,\n",
    "본 sklearn 튜토리얼에는 Silhouette Coefficient, V-measure 등 다양한 스코어를 제공함 (sklearn에 함수 다 있음 : https://scikit-learn.org/stable/modules/classes.html#module-sklearn.metrics)"
   ]
  },
  {
   "cell_type": "code",
   "execution_count": 6,
   "id": "09f182de",
   "metadata": {},
   "outputs": [],
   "source": [
    "# ACC, https://scikit-learn.org/stable/modules/generated/sklearn.metrics.accuracy_score.html#sklearn.metrics.accuracy_score\n",
    "from sklearn.metrics import accuracy_score\n",
    "# NMI, https://scikit-learn.org/stable/modules/generated/sklearn.metrics.normalized_mutual_info_score.html\n",
    "from sklearn.metrics.cluster import normalized_mutual_info_score\n",
    "# ARI, https://scikit-learn.org/stable/modules/generated/sklearn.metrics.adjusted_rand_score.html\n",
    "from sklearn.metrics.cluster import adjusted_rand_score "
   ]
  },
  {
   "cell_type": "markdown",
   "id": "8a95fa31",
   "metadata": {},
   "source": [
    "V-measure는 homogeneity, comleteness를 둘 다 고려하는 지표이며(근데 산술NMI랑 같대), \n",
    "Silhouette Coefficient는 정답 y가 없어도 내부적으로 클러스터링이 잘됐는지를 볼 수 있어 고려할 필요가 있다."
   ]
  },
  {
   "cell_type": "code",
   "execution_count": 7,
   "id": "4ac2035d",
   "metadata": {},
   "outputs": [],
   "source": [
    "# V-measure\n",
    "from sklearn.metrics import v_measure_score\n",
    "# Silhouette_score, https://scikit-learn.org/stable/modules/generated/sklearn.metrics.silhouette_score.html#sklearn.metrics.silhouette_score\n",
    "from sklearn.metrics import silhouette_score"
   ]
  },
  {
   "cell_type": "code",
   "execution_count": null,
   "id": "24ac3a0b",
   "metadata": {},
   "outputs": [],
   "source": []
  }
 ],
 "metadata": {
  "kernelspec": {
   "display_name": "Python 3 (ipykernel)",
   "language": "python",
   "name": "python3"
  },
  "language_info": {
   "codemirror_mode": {
    "name": "ipython",
    "version": 3
   },
   "file_extension": ".py",
   "mimetype": "text/x-python",
   "name": "python",
   "nbconvert_exporter": "python",
   "pygments_lexer": "ipython3",
   "version": "3.9.13"
  }
 },
 "nbformat": 4,
 "nbformat_minor": 5
}
