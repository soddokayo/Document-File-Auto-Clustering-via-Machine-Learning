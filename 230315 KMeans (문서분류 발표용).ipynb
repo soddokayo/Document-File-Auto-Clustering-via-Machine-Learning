{
 "cells": [
  {
   "cell_type": "markdown",
   "id": "419d3c5d",
   "metadata": {},
   "source": [
    "# Clustering text documents using k-means\n",
    "\n",
    "This is an example showing how the scikit-learn API can be used to cluster documents by topics using a **Bag of Words** approach.\n",
    "\n",
    "Two algorithms are demoed: **KMeans** and its more scalable variant, **MiniBatchKMeans**. Additionally, latent semantic analysis is used to reduce dimensionality and discover latent patterns in the data.\n",
    "\n",
    "This example uses two different text vectorizers: a **TfidfVectorizer** and a **HashingVectorizer**. See the example notebook **FeatureHasher and DictVectorizer Comparison** for more information on vectorizers and a comparison of their processing times.\n",
    "\n",
    "For document analysis via supervised learning approach, see the example script **Classification of text documents using sparse features**."
   ]
  },
  {
   "cell_type": "markdown",
   "id": "75e390b4",
   "metadata": {},
   "source": [
    "## Loading text data\n",
    "\n",
    "We load data from **The 20 newsgroups text dataset**, which comprises around 18,000 newsgroups posts on 20 topics. For illustrative purposes and to reduce the computational cost, we select a subset of 4 topics only accounting for around 3,400 documents. See the example **Classification of text documents using sparse features** to gain intuition on the overlap of such topics.\n",
    "\n",
    "Notice that, by default, the text samples contain some message metadata such as `\"headers\"`, `\"footers\"`(signatures) and `\"quotes\"` to other posts. We use the `remove` parameter from **fetch_20newsgroups** to strip those features and have a more sensible clustering problem."
   ]
  },
  {
   "cell_type": "code",
   "execution_count": 101,
   "id": "cbee621b",
   "metadata": {},
   "outputs": [
    {
     "name": "stdout",
     "output_type": "stream",
     "text": [
      "3387 documents - 4 categories\n"
     ]
    }
   ],
   "source": [
    "import numpy as np\n",
    "from sklearn.datasets import fetch_20newsgroups\n",
    "\n",
    "categories = [\n",
    "    \"alt.atheism\",\n",
    "    \"talk.religion.misc\",\n",
    "    \"comp.graphics\",\n",
    "    \"sci.space\",\n",
    "]\n",
    "\n",
    "dataset = fetch_20newsgroups(\n",
    "    remove=(\"headers\", \"footers\", \"quotes\"),\n",
    "    subset=\"all\",\n",
    "    categories=categories,\n",
    "    shuffle=True,\n",
    "    random_state=42,\n",
    ")\n",
    "\n",
    "labels = dataset.target\n",
    "unique_labels, category_sizes = np.unique(labels, return_counts=True)\n",
    "true_k = unique_labels.shape[0]\n",
    "\n",
    "print(f\"{len(dataset.data)} documents - {true_k} categories\")"
   ]
  },
  {
   "cell_type": "code",
   "execution_count": 117,
   "id": "d0727ca9",
   "metadata": {},
   "outputs": [
    {
     "name": "stdout",
     "output_type": "stream",
     "text": [
      "['alt.atheism', 'comp.graphics', 'comp.os.ms-windows.misc', 'comp.sys.ibm.pc.hardware', 'comp.sys.mac.hardware', 'comp.windows.x', 'misc.forsale', 'rec.autos', 'rec.motorcycles', 'rec.sport.baseball', 'rec.sport.hockey', 'sci.crypt', 'sci.electronics', 'sci.med', 'sci.space', 'soc.religion.christian', 'talk.politics.guns', 'talk.politics.mideast', 'talk.politics.misc', 'talk.religion.misc']\n",
      "18846 documents - 20 categories\n"
     ]
    }
   ],
   "source": [
    "# 전체 다 받는거 테스트\n",
    "import numpy as np\n",
    "from sklearn.datasets import fetch_20newsgroups\n",
    "\n",
    "dataset_all = fetch_20newsgroups(\n",
    "    remove=(\"headers\", \"footers\", \"quotes\"),\n",
    "    subset='all',\n",
    "    shuffle=True,\n",
    ")\n",
    "print(list(dataset_all.target_names))\n",
    "\n",
    "labels = dataset_all.target\n",
    "unique_labels, category_sizes = np.unique(labels, return_counts=True)\n",
    "true_k = unique_labels.shape[0]\n",
    "\n",
    "print(f\"{len(dataset_all.data)} documents - {true_k} categories\")\n",
    "\n",
    "dataset_old = dataset\n",
    "dataset = dataset_all"
   ]
  },
  {
   "cell_type": "code",
   "execution_count": 118,
   "id": "3f1326e3",
   "metadata": {},
   "outputs": [
    {
     "name": "stdout",
     "output_type": "stream",
     "text": [
      "<class 'list'> <class 'numpy.ndarray'>\n",
      "<class 'numpy.int64'> 4\n",
      "<class 'str'> Applied Engineering used to sell a 3.5\" disk drive for the Apple IIgs that\n",
      "read and wrote 1.6 meg on a HD disk.  I wonder if the drive would work on a\n",
      "mac, since I'm using my old 3.5\" drive from my IIgs on my IIsi now.  Just a\n",
      "thought.\n",
      "\n",
      "+--------------------------------------------------------------------------+\n",
      "\n",
      " /~~~~~~~\\\n",
      "\\_____    |\n",
      "      |   | TTTTTT EEEEE VV     VV EEEEE     |\n",
      "      |   |   TT   EE     VV   VV  EE        |\n",
      " /---/    |   TT   EEEE    VV VV   EEEE      | Steve Liu            \n"
     ]
    }
   ],
   "source": [
    "# type and content check to import external datasets next time :)\n",
    "print(type(dataset.data), type(dataset.target))\n",
    "for tar in dataset.target[1002:]:\n",
    "    print(type(tar), tar)\n",
    "    break\n",
    "for dat in dataset.data[1002:]:\n",
    "    print(type(dat), dat[:500])\n",
    "    break"
   ]
  },
  {
   "cell_type": "markdown",
   "id": "dc085499",
   "metadata": {},
   "source": [
    "## Quantifying the equality of clustering results\n",
    "\n",
    "In this section we define a function to score different clustering pipelines using several metrics.\n",
    "\n",
    "Clustering algorithms are fundamentally unsupervised learning methods. However, since we happen to have class labels for this specific dataset, it is possible to use evaluation metrics that leverage this \"supervised\" ground truth information to quantify the quality of the resulting clusters. Examples of such metrics are the following:\n",
    "\n",
    "- homogeneity, which quantifies how much clusters contain only members of a single class;\n",
    "- completeness, which quantifies how much members of a given class are assigned to the same clusters;\n",
    "- V-measure, the harmonic mean of completeness and homogeneity;\n",
    "- Rand-Index, which measures how frequently pairs of data points are grouped consistently according to the result of the clustering algorithm and the ground truth class assignment;\n",
    "- Adjusted Rand-Index, a chance-adjusted Rand-Index such that random cluster assignment have an ARI of 0.0 in expectation.\n",
    "\n",
    "If the ground truth labels are not known, evaluation can only be performed using the model results itself. In that case, the Silhouette Coefficient comes in handy.\n",
    "\n",
    "For more reference, see **Clustering performance evaluation**."
   ]
  },
  {
   "cell_type": "code",
   "execution_count": 119,
   "id": "5f8a2812",
   "metadata": {},
   "outputs": [],
   "source": [
    "from collections import defaultdict\n",
    "from sklearn import metrics\n",
    "from time import time\n",
    "\n",
    "evaluations = []\n",
    "evaluations_std = []\n",
    "\n",
    "def fit_and_evaluate(km, X, name=None, n_runs=5):\n",
    "    name = km.__class__.__name__ if name is None else name\n",
    "    \n",
    "    train_times = []\n",
    "    scores = defaultdict(list)\n",
    "    for seed in range(n_runs):\n",
    "        km.set_params(random_state=seed)\n",
    "        t0 = time()\n",
    "        km.fit(X)\n",
    "        train_times.append(time() - t0)\n",
    "        scores[\"Accuracy\"].append(metrics.accuracy_score(labels, km.labels_))\n",
    "        scores[\"Homogeneity\"].append(metrics.homogeneity_score(labels, km.labels_))\n",
    "        scores[\"Completeness\"].append(metrics.completeness_score(labels, km.labels_))\n",
    "        scores[\"V-measure\"].append(metrics.v_measure_score(labels, km.labels_))\n",
    "        scores[\"Normalized Mutual Information\"].append(\n",
    "            metrics.normalized_mutual_info_score(labels, km.labels_)\n",
    "        )\n",
    "        scores[\"Adjusted Rand-Index\"].append(\n",
    "            metrics.adjusted_rand_score(labels, km.labels_)\n",
    "        )\n",
    "        scores[\"Silhouette Coefficient\"].append(\n",
    "            metrics.silhouette_score(X, km.labels_, sample_size=2000)\n",
    "        )\n",
    "    train_times = np.asarray(train_times)\n",
    "    \n",
    "    print(f\"clustering done in {train_times.mean():.2f} ± {train_times.std():.2f} s \")\n",
    "    evaluation = {\n",
    "        \"estimator\": name,\n",
    "        \"train_time\": train_times.mean(),\n",
    "    }\n",
    "    evaluation_std = {\n",
    "        \"estimator\": name,\n",
    "        \"train_time\": train_times.std(),\n",
    "    }\n",
    "    for score_name, score_values in scores.items():\n",
    "        mean_score, std_score = np.mean(score_values), np.std(score_values)\n",
    "        print(f\"{score_name}: {mean_score:.3f} ± {std_score:.3f}\")\n",
    "        evaluation[score_name] = mean_score\n",
    "        evaluation_std[score_name] = std_score\n",
    "    evaluations.append(evaluation)\n",
    "    evaluations_std.append(evaluation_std)\n",
    "          "
   ]
  },
  {
   "cell_type": "markdown",
   "id": "eeb46d8b",
   "metadata": {},
   "source": [
    "## K-means Clustering on text features\n",
    "\n",
    "Two feature extraction methods are used in this example:\n",
    "\n",
    "- **TfidfVectorizer** uses an in-memory vocabulary (a Python dict) to map the most frequent words to features indices and hence compute a word occurrence frequency (sparse) matrix. The word frequencies are then reweighted using the Inverse Document Frequency (IDF) vector collected feature-wise over the corpus.\n",
    "- **HashingVectorizer** hashes word occurrences to a fixed dimensional space, possibly with collisions. The word count vectors are then normalized to each have l2-norm equal to one (projected to the euclidean unit-sphere) which seems to be important for k-means to work in high dimensional space.\n",
    "\n",
    "Furthermore it is possible to post-process those extracted features using dimensionality reduction. We will explore the impact of those choices on the clustering quality in the following."
   ]
  },
  {
   "cell_type": "markdown",
   "id": "cff381d3",
   "metadata": {},
   "source": [
    "### Feature Extraction using TfidfVectorizer\n",
    "\n",
    "We first benchmark the estimators using a dictionary vectorizer along with an IDF normalization as provided by **TfidfVectorizer**."
   ]
  },
  {
   "cell_type": "code",
   "execution_count": 120,
   "id": "9a96527f",
   "metadata": {},
   "outputs": [
    {
     "name": "stdout",
     "output_type": "stream",
     "text": [
      "vectorization done in 1.110 s\n",
      "n_samples: 18846, n_features: 24164\n"
     ]
    }
   ],
   "source": [
    "from sklearn.feature_extraction.text import TfidfVectorizer\n",
    "\n",
    "vectorizer = TfidfVectorizer(\n",
    "    max_df=0.5,\n",
    "    min_df=5,\n",
    "    stop_words=\"english\",\n",
    ")\n",
    "t0 = time()\n",
    "X_tfidf = vectorizer.fit_transform(dataset.data)\n",
    "\n",
    "print(f\"vectorization done in {time() - t0:.3f} s\")\n",
    "print(f\"n_samples: {X_tfidf.shape[0]}, n_features: {X_tfidf.shape[1]}\")"
   ]
  },
  {
   "cell_type": "markdown",
   "id": "310eaa5a",
   "metadata": {},
   "source": [
    "After ignoring terms that appear in more than 50% of the documents (as set by `max_df=0.5`) and terms that are not present in at least 5 documents (set by `min_df=5`), the resulting number of unique terms `n_features` is around 8,000. We can additionally quantify the sparsity of the `X_tfidf` matrix as the fraction of non-zero entries devided by the total number of elements."
   ]
  },
  {
   "cell_type": "code",
   "execution_count": 121,
   "id": "c370c758",
   "metadata": {},
   "outputs": [
    {
     "name": "stdout",
     "output_type": "stream",
     "text": [
      "0.002\n"
     ]
    }
   ],
   "source": [
    "print(f\"{X_tfidf.nnz / np.prod(X_tfidf.shape):.3f}\")"
   ]
  },
  {
   "cell_type": "markdown",
   "id": "6e2fd71e",
   "metadata": {},
   "source": [
    "We find that around 0.7% of the entries of the `X_tfidf` matrix are non-zero."
   ]
  },
  {
   "cell_type": "markdown",
   "id": "220d10c5",
   "metadata": {},
   "source": [
    "### Clustering sparse data with k-means\n",
    "\n",
    "As both **KMeans** and **MiniBatchKMeans** optimize a non-convex objective function, their clustering is not guaranteed to be optimal for a given random init. Even further, on sparse high-dimensional data such as text vectorized using the Bag of Words approach, k-means can initialize centroids on extremely isolated data points. Those data points can stay their own centroids all along.\n",
    "\n",
    "The following code illustrates how the previous phenomenon can sometimes lead to highly imbalanced clusters, depending on the random initialization:"
   ]
  },
  {
   "cell_type": "code",
   "execution_count": 122,
   "id": "afc401d5",
   "metadata": {},
   "outputs": [
    {
     "name": "stdout",
     "output_type": "stream",
     "text": [
      "Number of elements asigned to each cluster: [    1     1     1     1     1     1     9     1     2     1 18807     2\n",
      "     2     1     2     1     8     2     1     1]\n",
      "Number of elements asigned to each cluster: [    1     1     1     1     1 18646     1     1     1     1     4     4\n",
      "     1     2     1     2     1     2   169     5]\n",
      "Number of elements asigned to each cluster: [ 490 2980  868  179   63 7199  231  398  470  892  389  944   73  335\n",
      "  516  413  472  368 1133  433]\n",
      "Number of elements asigned to each cluster: [    1     1     1     1     1     1 18707    25     1     1    73     1\n",
      "     1     3     2     4     2     3    16     1]\n",
      "Number of elements asigned to each cluster: [    1     1     1     1     3     1     1     1 18553     2     1    92\n",
      "     1     2     5     3   169     5     2     1]\n",
      "\n",
      "True number of documents in each category according to the class labels: [799 973 985 982 963 988 975 990 996 994 999 991 984 990 987 997 910 940\n",
      " 775 628]\n"
     ]
    }
   ],
   "source": [
    "from sklearn.cluster import KMeans\n",
    "\n",
    "for seed in range(5):\n",
    "    kmeans = KMeans(\n",
    "        n_clusters=true_k,\n",
    "        max_iter=100,\n",
    "        n_init=1,\n",
    "        random_state=seed,\n",
    "    ).fit(X_tfidf)\n",
    "    cluster_ids, cluster_sizes = np.unique(kmeans.labels_, return_counts=True)\n",
    "    print(f\"Number of elements asigned to each cluster: {cluster_sizes}\")\n",
    "print()\n",
    "print(\n",
    "    \"True number of documents in each category according to the class labels: \"\n",
    "    f\"{category_sizes}\"\n",
    ")"
   ]
  },
  {
   "cell_type": "markdown",
   "id": "d73015d4",
   "metadata": {},
   "source": [
    "To avoid this problem, one possibility is to increase the number of runs with independent random initiations `n_init`. In such case the clustering with the best inertia(관성) (objective function of k-means) is chosen."
   ]
  },
  {
   "cell_type": "code",
   "execution_count": 123,
   "id": "ffd80b14",
   "metadata": {},
   "outputs": [
    {
     "name": "stdout",
     "output_type": "stream",
     "text": [
      "clustering done in 3.59 ± 1.18 s \n",
      "Accuracy: 0.044 ± 0.023\n",
      "Homogeneity: 0.208 ± 0.092\n",
      "Completeness: 0.396 ± 0.046\n",
      "V-measure: 0.253 ± 0.079\n",
      "Normalized Mutual Information: 0.253 ± 0.079\n",
      "Adjusted Rand-Index: 0.052 ± 0.020\n",
      "Silhouette Coefficient: 0.005 ± 0.002\n"
     ]
    }
   ],
   "source": [
    "kmeans = KMeans(\n",
    "    n_clusters=true_k,\n",
    "    max_iter=100,\n",
    "    n_init=5,\n",
    ")\n",
    "\n",
    "fit_and_evaluate(kmeans, X_tfidf, name=\"KMeans\\non tf-idf vectors\")"
   ]
  },
  {
   "cell_type": "markdown",
   "id": "b5b0ccaf",
   "metadata": {},
   "source": [
    "All those clustering evaluation metrics have a maximum value of 1.0 (for a perfect clustering result). Higher values are better. Values of the Adjusted Rand-Index close to 0.0 correspond to a random labeling. Notice from the scores above that the cluster assignment is indeed well above chance level, but the overall quality can certainly improve.\n",
    "\n",
    "Keep in mind that the class labels may not reflect accurately the document topics and therefore metrics that use labels are not necessarily the best to evaluate the quality of our clustering pipeline."
   ]
  },
  {
   "cell_type": "markdown",
   "id": "c6f1da69",
   "metadata": {},
   "source": [
    "### Performing dimensionality reduction using LSA\n",
    "\n",
    "A `n_init=1` can still be used as long as the dimension of the vectorized space is reduced(차원 축소->SVD등 활용) first to make k-means more stable. For such purpose we use **TruncatedSVD**, which works on term count/tf-idf matrices. Since SVD results are not normalized, we redo the normalization to improve the **KMeans** result. Using SVD to reduce the dimensionality of TF-IDF document vector is often known as **latent semantic analysis** (LSA, 잠재 의미 분석) in the information retrieval and text mining literature."
   ]
  },
  {
   "cell_type": "code",
   "execution_count": 124,
   "id": "23db5642",
   "metadata": {},
   "outputs": [
    {
     "name": "stdout",
     "output_type": "stream",
     "text": [
      "LSA done in 2.092 s\n",
      "Explained variance of the SVD step: 10.5%\n"
     ]
    }
   ],
   "source": [
    "from sklearn.decomposition import TruncatedSVD\n",
    "from sklearn.pipeline import make_pipeline\n",
    "from sklearn.preprocessing import Normalizer\n",
    "\n",
    "lsa = make_pipeline(TruncatedSVD(n_components=100), Normalizer(copy=False))\n",
    "t0 = time()\n",
    "X_lsa = lsa.fit_transform(X_tfidf)\n",
    "explained_variance = lsa[0].explained_variance_ratio_.sum()\n",
    "\n",
    "print(f\"LSA done in {time() - t0:.3f} s\")\n",
    "print(f\"Explained variance of the SVD step: {explained_variance * 100:.1f}%\")\n"
   ]
  },
  {
   "cell_type": "markdown",
   "id": "b04d4fec",
   "metadata": {},
   "source": [
    "Using a single initialization means the processing time will be reduced for both **KMeans** and **MiniBatchKMeans**."
   ]
  },
  {
   "cell_type": "code",
   "execution_count": 125,
   "id": "a2b42859",
   "metadata": {},
   "outputs": [
    {
     "name": "stdout",
     "output_type": "stream",
     "text": [
      "clustering done in 0.59 ± 0.09 s \n",
      "Accuracy: 0.060 ± 0.027\n",
      "Homogeneity: 0.338 ± 0.013\n",
      "Completeness: 0.367 ± 0.016\n",
      "V-measure: 0.351 ± 0.014\n",
      "Normalized Mutual Information: 0.351 ± 0.014\n",
      "Adjusted Rand-Index: 0.164 ± 0.014\n",
      "Silhouette Coefficient: 0.061 ± 0.002\n"
     ]
    }
   ],
   "source": [
    "kmeans = KMeans(\n",
    "    n_clusters=true_k,\n",
    "    max_iter=100,\n",
    "    n_init=1,\n",
    ")\n",
    "\n",
    "fit_and_evaluate(kmeans, X_lsa, name=\"KMeans\\nwith LSA on tf-idf vectors\")"
   ]
  },
  {
   "cell_type": "markdown",
   "id": "01f36a33",
   "metadata": {},
   "source": [
    "We can observe that clustering on the LSA representation of the document is significantly faster (both because of `n_init=1` and because the dimensionality of the LSA feature space is much smaller). Furthermore, all the clustering evaluation metrics have improved. We repeat the experiment with **MiniBatchKMeans**."
   ]
  },
  {
   "cell_type": "code",
   "execution_count": 126,
   "id": "6957d6ed",
   "metadata": {},
   "outputs": [
    {
     "name": "stdout",
     "output_type": "stream",
     "text": [
      "clustering done in 0.43 ± 0.04 s \n",
      "Accuracy: 0.048 ± 0.014\n",
      "Homogeneity: 0.309 ± 0.028\n",
      "Completeness: 0.337 ± 0.022\n",
      "V-measure: 0.322 ± 0.024\n",
      "Normalized Mutual Information: 0.322 ± 0.024\n",
      "Adjusted Rand-Index: 0.148 ± 0.044\n",
      "Silhouette Coefficient: 0.045 ± 0.005\n"
     ]
    }
   ],
   "source": [
    "from sklearn.cluster import MiniBatchKMeans\n",
    "\n",
    "minibatch_kmeans = MiniBatchKMeans(\n",
    "    n_clusters=true_k,\n",
    "    n_init=1,\n",
    "    init_size=1000,\n",
    "    batch_size=1000,\n",
    ")\n",
    "\n",
    "fit_and_evaluate(\n",
    "    minibatch_kmeans,\n",
    "    X_lsa,\n",
    "    name=\"MiniBatchKMeans\\nwith LSA on tf-idf vectors\",\n",
    ")"
   ]
  },
  {
   "cell_type": "markdown",
   "id": "6541fd1e",
   "metadata": {},
   "source": [
    "### Top terms per cluster\n",
    "\n",
    "Since **TfidfVectorizer** can be inverted we can identify the cluster centers, which provide an intuition of the most influential words **for each cluster**. See the example script **Classification of text documents using sparse features** for a comparison with the most predictive words **for each target class**."
   ]
  },
  {
   "cell_type": "code",
   "execution_count": 127,
   "id": "dcfd83c9",
   "metadata": {},
   "outputs": [
    {
     "name": "stdout",
     "output_type": "stream",
     "text": [
      "Cluster 0: did didn just think say let know got way don \n",
      "Cluster 1: right people left government rights just make think law amendment \n",
      "Cluster 2: just don like know think time good people sure really \n",
      "Cluster 3: card monitor video bus board apple memory bit ram mac \n",
      "Cluster 4: people think time evidence say true don point believe life \n",
      "Cluster 5: israel jews israeli armenian arab jewish armenians people arabs turkish \n",
      "Cluster 6: sale 00 offer shipping price 10 condition new asking interested \n",
      "Cluster 7: thanks advance hi know mail does email info looking help \n",
      "Cluster 8: list mailing subscribe com send mail price faq know address \n",
      "Cluster 9: does know anybody like mean just work use new info \n",
      "Cluster 10: key chip encryption clipper government keys escrow algorithm use nsa \n",
      "Cluster 11: windows file program window use files dos using problem server \n",
      "Cluster 12: space nasa shuttle launch orbit earth moon cost mission station \n",
      "Cluster 13: gun fbi batf koresh guns people law children government police \n",
      "Cluster 14: ve got seen heard just like good don used years \n",
      "Cluster 15: drive scsi hard disk drives ide controller floppy cd software \n",
      "Cluster 16: car bike cars engine new miles just like good speed \n",
      "Cluster 17: game team year games players hockey season play win baseball \n",
      "Cluster 18: edu com mail computer new read good phone article use \n",
      "Cluster 19: god jesus bible christ believe faith sin christian christians people \n"
     ]
    }
   ],
   "source": [
    "original_space_centroids = lsa[0].inverse_transform(kmeans.cluster_centers_)\n",
    "order_centroids = original_space_centroids.argsort()[:, ::-1]\n",
    "terms = vectorizer.get_feature_names_out()\n",
    "\n",
    "for i in range(true_k):\n",
    "    print(f\"Cluster {i}: \", end=\"\")\n",
    "    for ind in order_centroids[i, :10]:\n",
    "        print(f\"{terms[ind]} \", end=\"\")\n",
    "    print()"
   ]
  },
  {
   "cell_type": "markdown",
   "id": "cb81cecf",
   "metadata": {},
   "source": [
    "### HashingVectorizer\n",
    "\n",
    "An alternative vectorization can be done using a **HashingVectorizer** instance, which does not provide IDF weighting as this is a stateless model (the fit method des nothing). When IDF weighting is needed it can be added by pipelining the **HashingVectorizer** output to a **TfidfTransformer** instance. In this case we also add LSA to the pipeline to reduce the dimension and sparcity of the hashed vector space."
   ]
  },
  {
   "cell_type": "code",
   "execution_count": 128,
   "id": "b69d37ec",
   "metadata": {},
   "outputs": [
    {
     "name": "stdout",
     "output_type": "stream",
     "text": [
      "vectorization done in 4.357 s\n"
     ]
    }
   ],
   "source": [
    "from sklearn.feature_extraction.text import HashingVectorizer\n",
    "from sklearn.feature_extraction.text import TfidfTransformer\n",
    "\n",
    "lsa_vectorizer = make_pipeline(\n",
    "    HashingVectorizer(stop_words=\"english\", n_features=50_000),\n",
    "    TfidfTransformer(),\n",
    "    TruncatedSVD(n_components=100, random_state=0),\n",
    "    Normalizer(copy=False),\n",
    ")\n",
    "\n",
    "t0 = time()\n",
    "X_hashed_lsa = lsa_vectorizer.fit_transform(dataset.data)\n",
    "print(f\"vectorization done in {time() - t0:.3f} s\")"
   ]
  },
  {
   "cell_type": "markdown",
   "id": "320e8671",
   "metadata": {},
   "source": [
    "One can observe that the LSA step takes a relatively long time to fit, especially with hashed vectors. The reason is that a hashed space is typically large (set to `n_features=50_000` in this example).\n",
    "One can try lowering the number of features at the expense of having a larger fraction of features with hash collisions as shown in the example notebook **FeatureHasher and DictVectorizer Comparison**.\n",
    "\n",
    "We now fit and evaluate the `kmeans` and `minibatch_kmeans` instances on this hashed-lsa-reduced data:"
   ]
  },
  {
   "cell_type": "code",
   "execution_count": 129,
   "id": "870c5965",
   "metadata": {},
   "outputs": [
    {
     "name": "stdout",
     "output_type": "stream",
     "text": [
      "clustering done in 0.78 ± 0.11 s \n",
      "Accuracy: 0.057 ± 0.017\n",
      "Homogeneity: 0.330 ± 0.012\n",
      "Completeness: 0.367 ± 0.012\n",
      "V-measure: 0.348 ± 0.012\n",
      "Normalized Mutual Information: 0.348 ± 0.012\n",
      "Adjusted Rand-Index: 0.145 ± 0.011\n",
      "Silhouette Coefficient: 0.060 ± 0.003\n"
     ]
    }
   ],
   "source": [
    "fit_and_evaluate(kmeans, X_hashed_lsa, name=\"KMeans\\nwith LSA on hashed vectors\")"
   ]
  },
  {
   "cell_type": "code",
   "execution_count": 130,
   "id": "0505a420",
   "metadata": {},
   "outputs": [
    {
     "name": "stdout",
     "output_type": "stream",
     "text": [
      "clustering done in 0.42 ± 0.03 s \n",
      "Accuracy: 0.055 ± 0.024\n",
      "Homogeneity: 0.300 ± 0.015\n",
      "Completeness: 0.348 ± 0.030\n",
      "V-measure: 0.322 ± 0.020\n",
      "Normalized Mutual Information: 0.322 ± 0.020\n",
      "Adjusted Rand-Index: 0.123 ± 0.025\n",
      "Silhouette Coefficient: 0.049 ± 0.006\n"
     ]
    }
   ],
   "source": [
    "fit_and_evaluate(\n",
    "    minibatch_kmeans,\n",
    "    X_hashed_lsa,\n",
    "    name=\"MiniBatchKMeans\\n with LSA on hashed vectors\",\n",
    ")"
   ]
  },
  {
   "cell_type": "markdown",
   "id": "36cbeb06",
   "metadata": {},
   "source": [
    "Both methods lead to good results that are similar to running the same models on the traditional LSA vectors (with hashing)."
   ]
  },
  {
   "cell_type": "markdown",
   "id": "99a5f3ee",
   "metadata": {},
   "source": [
    "## Clustering evaluation summary"
   ]
  },
  {
   "cell_type": "code",
   "execution_count": 131,
   "id": "4faf1e52",
   "metadata": {},
   "outputs": [
    {
     "data": {
      "image/png": "[encoded data removed]",
      "text/plain": [
       "<Figure size 1600x600 with 2 Axes>"
      ]
     },
     "metadata": {},
     "output_type": "display_data"
    }
   ],
   "source": [
    "import pandas as pd\n",
    "import matplotlib.pyplot as plt\n",
    "\n",
    "fig, (ax0, ax1) = plt.subplots(ncols=2, figsize=(16, 6), sharey=True)\n",
    "\n",
    "df = pd.DataFrame(evaluations[::-1]).set_index(\"estimator\")\n",
    "df_std = pd.DataFrame(evaluations_std[::-1]).set_index(\"estimator\")\n",
    "\n",
    "df.drop(\n",
    "    [\"train_time\"],\n",
    "    axis=\"columns\",\n",
    ").plot.barh(ax=ax0, xerr=df_std)\n",
    "ax0.set_xlabel(\"Clustering scores\")\n",
    "ax0.set_ylabel(\"\")\n",
    "\n",
    "df[\"train_time\"].plot.barh(ax=ax1, xerr=df_std[\"train_time\"])\n",
    "ax1.set_xlabel(\"Clustering time (s)\")\n",
    "plt.tight_layout()"
   ]
  },
  {
   "cell_type": "code",
   "execution_count": 132,
   "id": "e11df6e3",
   "metadata": {},
   "outputs": [
    {
     "data": {
      "text/html": [
       "<div>\n",
       "<style scoped>\n",
       "    .dataframe tbody tr th:only-of-type {\n",
       "        vertical-align: middle;\n",
       "    }\n",
       "\n",
       "    .dataframe tbody tr th {\n",
       "        vertical-align: top;\n",
       "    }\n",
       "\n",
       "    .dataframe thead th {\n",
       "        text-align: right;\n",
       "    }\n",
       "</style>\n",
       "<table border=\"1\" class=\"dataframe\">\n",
       "  <thead>\n",
       "    <tr style=\"text-align: right;\">\n",
       "      <th></th>\n",
       "      <th>ACC</th>\n",
       "      <th>NMI</th>\n",
       "      <th>ARI</th>\n",
       "      <th>SC</th>\n",
       "    </tr>\n",
       "    <tr>\n",
       "      <th>Method</th>\n",
       "      <th></th>\n",
       "      <th></th>\n",
       "      <th></th>\n",
       "      <th></th>\n",
       "    </tr>\n",
       "  </thead>\n",
       "  <tbody>\n",
       "    <tr>\n",
       "      <th>HV+LSA+mKM</th>\n",
       "      <td>0.0553±0.0236</td>\n",
       "      <td>0.3219±0.02</td>\n",
       "      <td>0.1229±0.0255</td>\n",
       "      <td>0.049±0.0065</td>\n",
       "    </tr>\n",
       "    <tr>\n",
       "      <th>HV+LSA+KM</th>\n",
       "      <td>0.0575±0.017</td>\n",
       "      <td>0.3476±0.0118</td>\n",
       "      <td>0.1446±0.0113</td>\n",
       "      <td>0.0604±0.0028</td>\n",
       "    </tr>\n",
       "    <tr>\n",
       "      <th>TFIDF+LSA+mKM</th>\n",
       "      <td>0.0484±0.0138</td>\n",
       "      <td>0.322±0.0237</td>\n",
       "      <td>0.1481±0.0443</td>\n",
       "      <td>0.0452±0.0048</td>\n",
       "    </tr>\n",
       "    <tr>\n",
       "      <th>TFIDF+LSA+KM</th>\n",
       "      <td>0.0598±0.0273</td>\n",
       "      <td>0.3515±0.0138</td>\n",
       "      <td>0.1636±0.0136</td>\n",
       "      <td>0.061±0.0022</td>\n",
       "    </tr>\n",
       "    <tr>\n",
       "      <th>TFIDF+KM</th>\n",
       "      <td>0.0439±0.0229</td>\n",
       "      <td>0.253±0.0788</td>\n",
       "      <td>0.0522±0.0202</td>\n",
       "      <td>0.0053±0.0023</td>\n",
       "    </tr>\n",
       "  </tbody>\n",
       "</table>\n",
       "</div>"
      ],
      "text/plain": [
       "                         ACC            NMI            ARI             SC\n",
       "Method                                                                   \n",
       "HV+LSA+mKM     0.0553±0.0236    0.3219±0.02  0.1229±0.0255   0.049±0.0065\n",
       "HV+LSA+KM       0.0575±0.017  0.3476±0.0118  0.1446±0.0113  0.0604±0.0028\n",
       "TFIDF+LSA+mKM  0.0484±0.0138   0.322±0.0237  0.1481±0.0443  0.0452±0.0048\n",
       "TFIDF+LSA+KM   0.0598±0.0273  0.3515±0.0138  0.1636±0.0136   0.061±0.0022\n",
       "TFIDF+KM       0.0439±0.0229   0.253±0.0788  0.0522±0.0202  0.0053±0.0023"
      ]
     },
     "execution_count": 132,
     "metadata": {},
     "output_type": "execute_result"
    }
   ],
   "source": [
    "df_merge = df.drop(\n",
    "    [\"train_time\", \"Homogeneity\", \"Completeness\", \"V-measure\"],\n",
    "    axis=\"columns\",\n",
    ").round(4).astype('str') + \\\n",
    "\"±\" + \\\n",
    "df_std.drop(\n",
    "    [\"train_time\", \"Homogeneity\", \"Completeness\", \"V-measure\"],\n",
    "    axis=\"columns\",\n",
    ").round(4).astype('str')\n",
    "\n",
    "df_merge.rename(index={\n",
    "    'MiniBatchKMeans\\n with LSA on hashed vectors':'HV+LSA+mKM',\n",
    "    'KMeans\\nwith LSA on hashed vectors':'HV+LSA+KM',\n",
    "    'MiniBatchKMeans\\nwith LSA on tf-idf vectors':'TFIDF+LSA+mKM',\n",
    "    'KMeans\\nwith LSA on tf-idf vectors':'TFIDF+LSA+KM',\n",
    "    'KMeans\\non tf-idf vectors':'TFIDF+KM',\n",
    "}, columns={ \n",
    "    'Accuracy':'ACC', \n",
    "    'Normalized Mutual Information':'NMI',\n",
    "    'Adjusted Rand-Index':'ARI',\n",
    "    'Silhouette Coefficient':'SC',\n",
    "}, inplace=True)\n",
    "df_merge.index.names=['Method']\n",
    "\n",
    "df_merge"
   ]
  },
  {
   "cell_type": "markdown",
   "id": "175c4032",
   "metadata": {},
   "source": [
    "**KMeans** and **MiniBatchKMeans** suffer from the phenomenon called the **Curse of Dimensionality** for high dimensional datasets such as text data. That is the reason why the overall scores improve when using LSA. Using LSA reduced data also improves the stability and requires lower clustering time, though keep in mind that the LSA step itself takes a long time, especially with hashed vectors.\n",
    "\n",
    "The Silhouette Coefficient is defined between 0 and 1. In all cases we obtain values close to 0 (even if they improve a bit after using LSA) because its definition requires measuring distances, in contrast with other evaluation metrics such as the V-measure and the Adjusted Rand Index which are only based on cluster assignments rather than distances. Notice that strictly speaking, one should not compare the Silhouette Coefficient between spaces of different dimension, due to the different notions of distance they imply.\n",
    "\n",
    "The homogeneity, completeness and hence v-measure metrics do not yield a baseline with regards to random labeling: this means that depending on the number of samples, clusters and ground truth classes, a completely random labeling will not always yield the same values. In particular random labeling won't yield zero scores, especially when the number of clusters is large. This problem can safely be ignored when the number of samples is more than a thousand and the number of clusters is less than 10, which is the case of the present example. For smaller sample sizes or larger number of clusters it is safer to use an adjusted index such as the Adjusted Rand Index (ARI). See the example **Adjustment for chance in clustering performance evaluation** for a demo on the effect of random labeling.\n",
    "\n",
    "The size of the error bars show that **MiniBatchKMeans** is less stable than **KMeans** for this relatively small dataset. It is more interesting to use when the number of samples is much bigger, but it can come at the expense of a small degradation in clustering quality compared to the traditional k-means algorithm."
   ]
  },
  {
   "cell_type": "markdown",
   "id": "46b5c198",
   "metadata": {},
   "source": [
    "---"
   ]
  },
  {
   "cell_type": "markdown",
   "id": "1339bba0",
   "metadata": {},
   "source": [
    "### 참고"
   ]
  },
  {
   "cell_type": "code",
   "execution_count": 2,
   "id": "5892cb6c",
   "metadata": {},
   "outputs": [],
   "source": [
    "from sklearn.cluster import KMeans\n",
    "from sklearn.feature_extraction.text import TfidfVectorizer"
   ]
  },
  {
   "cell_type": "markdown",
   "id": "657efd81",
   "metadata": {},
   "source": [
    "우리가 참고한 BERT Clustering 저널에서는 ACC, NMI, ARI 지표만 이용하지만,\n",
    "본 sklearn 튜토리얼에는 Silhouette Coefficient, V-measure 등 다양한 스코어를 제공함 (sklearn에 함수 다 있음 : https://scikit-learn.org/stable/modules/classes.html#module-sklearn.metrics)"
   ]
  },
  {
   "cell_type": "code",
   "execution_count": 6,
   "id": "27911ff1",
   "metadata": {},
   "outputs": [],
   "source": [
    "# ACC, https://scikit-learn.org/stable/modules/generated/sklearn.metrics.accuracy_score.html#sklearn.metrics.accuracy_score\n",
    "from sklearn.metrics import accuracy_score\n",
    "# NMI, https://scikit-learn.org/stable/modules/generated/sklearn.metrics.normalized_mutual_info_score.html\n",
    "from sklearn.metrics.cluster import normalized_mutual_info_score\n",
    "# ARI, https://scikit-learn.org/stable/modules/generated/sklearn.metrics.adjusted_rand_score.html\n",
    "from sklearn.metrics.cluster import adjusted_rand_score "
   ]
  },
  {
   "cell_type": "markdown",
   "id": "0a36a2d7",
   "metadata": {},
   "source": [
    "V-measure는 homogeneity, comleteness를 둘 다 고려하는 지표이며(근데 산술NMI랑 같대), \n",
    "Silhouette Coefficient는 정답 y가 없어도 내부적으로 클러스터링이 잘됐는지를 볼 수 있어 고려할 필요가 있다."
   ]
  },
  {
   "cell_type": "code",
   "execution_count": 7,
   "id": "279a87d0",
   "metadata": {},
   "outputs": [],
   "source": [
    "# V-measure\n",
    "from sklearn.metrics import v_measure_score\n",
    "# Silhouette_score, https://scikit-learn.org/stable/modules/generated/sklearn.metrics.silhouette_score.html#sklearn.metrics.silhouette_score\n",
    "from sklearn.metrics import silhouette_score"
   ]
  },
  {
   "cell_type": "code",
   "execution_count": null,
   "id": "74854fb9",
   "metadata": {},
   "outputs": [],
   "source": []
  }
 ],
 "metadata": {
  "kernelspec": {
   "display_name": "Python 3 (ipykernel)",
   "language": "python",
   "name": "python3"
  },
  "language_info": {
   "codemirror_mode": {
    "name": "ipython",
    "version": 3
   },
   "file_extension": ".py",
   "mimetype": "text/x-python",
   "name": "python",
   "nbconvert_exporter": "python",
   "pygments_lexer": "ipython3",
   "version": "3.9.13"
  }
 },
 "nbformat": 4,
 "nbformat_minor": 5
}
